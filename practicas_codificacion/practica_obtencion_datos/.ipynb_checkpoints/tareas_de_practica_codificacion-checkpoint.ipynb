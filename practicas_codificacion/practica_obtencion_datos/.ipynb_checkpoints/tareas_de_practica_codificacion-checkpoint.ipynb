{
 "cells": [
  {
   "cell_type": "markdown",
   "id": "01b14981",
   "metadata": {
    "slideshow": {
     "slide_type": "slide"
    }
   },
   "source": [
    "<table align=\"left\">\n",
    "  <td>\n",
    "    <a href=\"https://colab.research.google.com/github/marco-canas/math_I/blob/main/practicas_codificacion/practica_obtencion_datos/.ipynb_checkpoints/tareas_de_practica_codificacion-checkpoint.ipynb\" target=\"_parent\"><img src=\"https://colab.research.google.com/assets/colab-badge.svg\" alt=\"Open In Colab\"/></a>\n",
    "  </td>\n",
    "</table>"
   ]
  },
  {
   "cell_type": "markdown",
   "id": "e1e8b95b",
   "metadata": {
    "slideshow": {
     "slide_type": "slide"
    }
   },
   "source": [
    "# Tareas de memorización"
   ]
  },
  {
   "cell_type": "markdown",
   "id": "32b1f244",
   "metadata": {
    "slideshow": {
     "slide_type": "slide"
    }
   },
   "source": [
    "## Vocabulary"
   ]
  },
  {
   "cell_type": "markdown",
   "id": "f516bc0c",
   "metadata": {},
   "source": [
    "1. read = leer \n",
    "2. desktop = escritorio\n",
    "3. small\n",
    "4. Medium\n",
    "5. Large\n",
    "6. ExtraLarge\n"
   ]
  },
  {
   "cell_type": "markdown",
   "id": "f5c5e0b7",
   "metadata": {},
   "source": [
    "# Nombres de las funciones que convierten en DataFrame"
   ]
  },
  {
   "cell_type": "markdown",
   "id": "3772d9d8",
   "metadata": {},
   "source": [
    "* pd.read_csv()  \n",
    "\n",
    "* pd.read_excel()"
   ]
  },
  {
   "cell_type": "markdown",
   "id": "a62cb6c8",
   "metadata": {},
   "source": [
    "# Estructuras de datos de python"
   ]
  },
  {
   "cell_type": "markdown",
   "id": "dede27d0",
   "metadata": {},
   "source": [
    "1. Listas\n",
    "2. Tuplas\n",
    "3. Diccionarios\n",
    "4. array de NumPy\n",
    "5. DataFrame\n",
    "\n"
   ]
  },
  {
   "cell_type": "code",
   "execution_count": null,
   "id": "3ebec0e2",
   "metadata": {},
   "outputs": [],
   "source": []
  },
  {
   "cell_type": "code",
   "execution_count": null,
   "id": "b765f26e",
   "metadata": {},
   "outputs": [],
   "source": []
  },
  {
   "cell_type": "code",
   "execution_count": null,
   "id": "4064b238",
   "metadata": {},
   "outputs": [],
   "source": []
  },
  {
   "cell_type": "code",
   "execution_count": null,
   "id": "2317e03a",
   "metadata": {},
   "outputs": [],
   "source": []
  },
  {
   "cell_type": "code",
   "execution_count": null,
   "id": "63d0081f",
   "metadata": {},
   "outputs": [],
   "source": []
  },
  {
   "cell_type": "code",
   "execution_count": null,
   "id": "bfe541dc",
   "metadata": {},
   "outputs": [],
   "source": []
  },
  {
   "cell_type": "code",
   "execution_count": null,
   "id": "595ee468",
   "metadata": {},
   "outputs": [],
   "source": []
  },
  {
   "cell_type": "code",
   "execution_count": null,
   "id": "c5e3d2b8",
   "metadata": {},
   "outputs": [],
   "source": []
  },
  {
   "cell_type": "code",
   "execution_count": null,
   "id": "0449acfc",
   "metadata": {},
   "outputs": [],
   "source": []
  },
  {
   "cell_type": "code",
   "execution_count": null,
   "id": "c6448fb8",
   "metadata": {},
   "outputs": [],
   "source": []
  }
 ],
 "metadata": {
  "celltoolbar": "Slideshow",
  "kernelspec": {
   "display_name": "Python 3 (ipykernel)",
   "language": "python",
   "name": "python3"
  },
  "language_info": {
   "codemirror_mode": {
    "name": "ipython",
    "version": 3
   },
   "file_extension": ".py",
   "mimetype": "text/x-python",
   "name": "python",
   "nbconvert_exporter": "python",
   "pygments_lexer": "ipython3",
   "version": "3.9.13"
  }
 },
 "nbformat": 4,
 "nbformat_minor": 5
}
